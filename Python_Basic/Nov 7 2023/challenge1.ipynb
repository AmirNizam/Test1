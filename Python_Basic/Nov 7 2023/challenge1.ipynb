{
 "cells": [
  {
   "cell_type": "code",
   "execution_count": 14,
   "id": "06ca3fa4-014d-4ba8-b00e-63e4c381609e",
   "metadata": {
    "tags": []
   },
   "outputs": [],
   "source": [
    "### Create a variable named `subject` with no value (i.e. set the value to None).\n",
    "subject =[]\n",
    "### Assign a value of \"Programmers\" to the variable `subject`\n",
    "subject= \"Programmers\"\n",
    "### Create a variable, `first_name`, and assign it a value of an empty string.\n",
    "first_name = []\n",
    "### Assign a value of \"Ada\" to the variable `first_name`\n",
    "first_name = \"Ada\"\n",
    "### Create a variable, `last_name`, and assign it a value of a string, \"Lovelace\".\n",
    "last_name = \"Lovelace\"\n",
    "### Create a variable, `full_name`, and assign it a value of the combination of `first_name` and `last_name` with a space.\n",
    "full_name = first_name+\" \"+ last_name\n",
    "### Create a variable, `profession`, and assign it a value of a string, \"Computer Programmer\".\n",
    "profession = \"computer Programmer\"\n",
    "### Create a variable, `known_for`, and assign it a value of a string, \"First Computer Programmer\".\n",
    "known_for = \"First Computer Programmer\"\n",
    "### Create a variable, `first_algorithm`, and assign it a value of a string, \"Analytical Engine\".\n",
    "firs_algoritham = \"Analytical Engine\"\n",
    "### Create a variable, `city_location`, and assign it a value of a string, \"London\".\n",
    "city_location = \"London\"\n",
    "### Create a variable, `country_location`, and assign it a value of a string, \"England\".\n",
    "country_location = \"England\"\n",
    "### Create a variable, `nationality`, and assign it a value of a string, \"British\".\n",
    "nationality= \"British\"\n"
   ]
  },
  {
   "cell_type": "code",
   "execution_count": 18,
   "id": "09decc07-add0-462f-9558-1a9be1f4e1a1",
   "metadata": {
    "tags": []
   },
   "outputs": [
    {
     "name": "stdout",
     "output_type": "stream",
     "text": [
      "37\n"
     ]
    }
   ],
   "source": [
    "### Create a variable, `birth_year`, and assign it with an integer of 1815.\n",
    "birth_year= 1815\n",
    "\n",
    "### Create a variable, `death_year`, and assign it with an integer of 1852.\n",
    "death_year = 1852\n",
    "### Create a variable, `age_at_passing`, and assign it a value of death_year minus birth_year.\n",
    "age_at_passing= death_year-birth_year\n",
    "print(age_at_passing)\n",
    "### Create a variable, `year_of_publish`, and assign it with an integer of 1842.\n",
    "year_of_publish = 1842 "
   ]
  },
  {
   "cell_type": "code",
   "execution_count": 32,
   "id": "440846f5-1740-4650-aeb0-34a6a372d75f",
   "metadata": {
    "tags": []
   },
   "outputs": [
    {
     "name": "stdout",
     "output_type": "stream",
     "text": [
      " computer Programmer:Ada Lovelace is a British computer Programmer born in 1815\n"
     ]
    }
   ],
   "source": [
    "### Create and print a variable, `statement_one`, by assigning it a value of a concatenated string: \"Programmers: Ada Lovelace is a British Computer Programmer born in 1815.\"\n",
    "statement_1= f\" {profession}:{full_name} is a {nationality} {profession} born in {birth_year}\"\n",
    "print(statement_1)\n",
    "### 2. Create and print a variable, `statement_two`, by assigning it a value of a concatenated string: \"She is commonly referred to as the First Computer Programmer.\"\n",
    "\n",
    "### 3. Create and print a variable, `statement_three`, by assigning it a value of a concatenated string: \"In 1842 she published the first Algorithm, the Analytical Engine, at the age of 27.\"\n",
    "\n",
    "### 4. Create and print a variable, `statement_four`, by assigning it a value of a concatenated string: \"She was a British Citizen who lived in London, England until her passing in 1852 at the age of 37.\"\n",
    "\n"
   ]
  },
  {
   "cell_type": "code",
   "execution_count": null,
   "id": "75479d18-ae20-44c7-94bd-5143e5197860",
   "metadata": {},
   "outputs": [],
   "source": []
  }
 ],
 "metadata": {
  "kernelspec": {
   "display_name": "Python 3 (ipykernel)",
   "language": "python",
   "name": "python3"
  },
  "language_info": {
   "codemirror_mode": {
    "name": "ipython",
    "version": 3
   },
   "file_extension": ".py",
   "mimetype": "text/x-python",
   "name": "python",
   "nbconvert_exporter": "python",
   "pygments_lexer": "ipython3",
   "version": "3.11.5"
  }
 },
 "nbformat": 4,
 "nbformat_minor": 5
}
