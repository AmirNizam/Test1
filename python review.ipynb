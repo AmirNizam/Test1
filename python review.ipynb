{
 "cells": [
  {
   "cell_type": "code",
   "execution_count": null,
   "id": "5b4325ad-d397-4201-81b8-cb07b9979fad",
   "metadata": {
    "tags": []
   },
   "outputs": [],
   "source": [
    "### Python review \n",
    "- variables. 1. name vs value. 2. types: int, float, string, list, dict, tuple, boolean, None 3. scopes\n",
    "- logic. conditionals, loops\n",
    "- functions: inputs, code in between, outputs.\n",
    "- home"
   ]
  },
  {
   "cell_type": "code",
   "execution_count": 11,
   "id": "045a9d0e-4d39-4d9c-8a84-611204e8e724",
   "metadata": {
    "tags": []
   },
   "outputs": [],
   "source": [
    "x=10 \n",
    "y=5\n"
   ]
  },
  {
   "cell_type": "code",
   "execution_count": 22,
   "id": "21fc9424-3be4-445d-b28f-6b9e20e41992",
   "metadata": {
    "tags": []
   },
   "outputs": [
    {
     "name": "stdout",
     "output_type": "stream",
     "text": [
      "the number is 10\n",
      "the number is 5\n"
     ]
    }
   ],
   "source": [
    "### define functions and recalling the functions with varibales\n",
    "def print_number(num):\n",
    "    print(f\"the number is {num}\")\n",
    "print_number(x)\n",
    "\n",
    "def print_number(num):\n",
    "    print(f\"the number is {num}\")\n",
    "print_number(y)\n",
    "\n",
    "### aruguments is (num) contains one 1 value"
   ]
  },
  {
   "cell_type": "code",
   "execution_count": 29,
   "id": "79f1d897-b819-4040-a594-b00c87e2b216",
   "metadata": {
    "tags": []
   },
   "outputs": [
    {
     "name": "stdout",
     "output_type": "stream",
     "text": [
      "the number is 5 <class 'type'>\n"
     ]
    }
   ],
   "source": [
    "### how to see the type\n",
    "def print_number(num):\n",
    "    print(f\"the number is {num} {type}\")\n",
    "print_number(y)\n"
   ]
  },
  {
   "cell_type": "code",
   "execution_count": 43,
   "id": "5f1ea5a4-6247-458d-94a2-d25935ee369e",
   "metadata": {
    "tags": []
   },
   "outputs": [
    {
     "name": "stdout",
     "output_type": "stream",
     "text": [
      "[1, 2, 3, 4, 5]\n"
     ]
    }
   ],
   "source": [
    "### list\n",
    "temp_list = [1, 2, 3, 4 , 5]\n",
    "print(temp_list)"
   ]
  },
  {
   "cell_type": "code",
   "execution_count": 71,
   "id": "c049eb9e-3c1f-4663-b31a-41b092a5c0f3",
   "metadata": {
    "tags": []
   },
   "outputs": [
    {
     "name": "stdout",
     "output_type": "stream",
     "text": [
      "[1, 2, 3, 4]\n",
      "[1, 2, 3, 4]\n",
      "[1, 2, 3, 4]\n",
      "[1, 2, 3]\n"
     ]
    }
   ],
   "source": [
    "### list\n",
    "### in python list start 0 \n",
    "print(temp_list [:-1])\n",
    "print(temp_list [0:-1])\n",
    "print(temp_list [0:4])\n",
    "print(temp_list [0:-2])"
   ]
  },
  {
   "cell_type": "code",
   "execution_count": 53,
   "id": "fd567441-84c8-4b50-8cad-0c5debe48223",
   "metadata": {
    "tags": []
   },
   "outputs": [
    {
     "name": "stdout",
     "output_type": "stream",
     "text": [
      "1\n",
      "2\n",
      "3\n",
      "4\n",
      "5\n"
     ]
    }
   ],
   "source": [
    "for i in temp_list:\n",
    "    print(i)"
   ]
  },
  {
   "cell_type": "code",
   "execution_count": 62,
   "id": "b1a0fcd2-c017-4fd6-b649-3d462e835c1d",
   "metadata": {
    "tags": []
   },
   "outputs": [
    {
     "name": "stdout",
     "output_type": "stream",
     "text": [
      "2\n"
     ]
    }
   ],
   "source": [
    "for i in temp_list:\n",
    "    if i==2:\n",
    "        print(i)"
   ]
  },
  {
   "cell_type": "code",
   "execution_count": 63,
   "id": "a7f1ecef-8d61-44ca-8f1e-bcdf847718db",
   "metadata": {
    "tags": []
   },
   "outputs": [
    {
     "name": "stdout",
     "output_type": "stream",
     "text": [
      "2\n",
      "4\n"
     ]
    }
   ],
   "source": [
    "### generate even number for the list \n",
    "for i in temp_list:\n",
    "    if i%2==0:\n",
    "        print(i)"
   ]
  },
  {
   "cell_type": "code",
   "execution_count": 64,
   "id": "0d92be70-a2bf-4f09-b143-0cb7071079a8",
   "metadata": {
    "tags": []
   },
   "outputs": [
    {
     "name": "stdout",
     "output_type": "stream",
     "text": [
      "1\n",
      "3\n",
      "5\n"
     ]
    }
   ],
   "source": [
    "## generate odd number for the list \n",
    "for i in temp_list:\n",
    "    if i%2!=0:\n",
    "        print(i)"
   ]
  },
  {
   "cell_type": "code",
   "execution_count": 68,
   "id": "de1898c5-b7d2-444e-9e24-fcf9ae4590ec",
   "metadata": {
    "tags": []
   },
   "outputs": [
    {
     "name": "stdout",
     "output_type": "stream",
     "text": [
      "1\n",
      "3\n",
      "5\n"
     ]
    }
   ],
   "source": [
    "### scope bigger and smaller (rejected) not to be as good practice\n",
    "### with example of odd number \n",
    "def print_odd_num(my_list_of_odd):\n",
    "    for i in temp_list:\n",
    "        if i%2!=0:\n",
    "            print(i)\n",
    "            \n",
    "print_odd_num (temp_list)"
   ]
  },
  {
   "cell_type": "code",
   "execution_count": 70,
   "id": "a26c2b14-4ebc-49af-9d7f-683ea54d4d91",
   "metadata": {
    "tags": []
   },
   "outputs": [
    {
     "name": "stdout",
     "output_type": "stream",
     "text": [
      "1\n",
      "3\n",
      "5\n"
     ]
    }
   ],
   "source": [
    "def print_odd_num(my_list_of_odd):\n",
    "    for i in my_list_of_odd:\n",
    "        if i%2!=0:\n",
    "            print(i)\n",
    "            \n",
    "print_odd_num (temp_list)"
   ]
  },
  {
   "cell_type": "code",
   "execution_count": 72,
   "id": "adbf48ce-61bb-445e-b5b2-4c889dc245e1",
   "metadata": {
    "tags": []
   },
   "outputs": [
    {
     "name": "stdout",
     "output_type": "stream",
     "text": [
      "[5, 4, 3, 2, 1]\n"
     ]
    }
   ],
   "source": [
    "### list comprehnsion means a full code inside the variable assigning \n",
    "print(temp_list [::-1])"
   ]
  },
  {
   "cell_type": "code",
   "execution_count": 76,
   "id": "6b04aec2-f1cc-440a-a76c-828636402299",
   "metadata": {
    "tags": []
   },
   "outputs": [
    {
     "name": "stdout",
     "output_type": "stream",
     "text": [
      "[5, 4, 3, 2, 1]\n"
     ]
    }
   ],
   "source": [
    "var_temp_list = [i for i in temp_list [::-1]]\n",
    "print(var_temp_list)"
   ]
  },
  {
   "cell_type": "code",
   "execution_count": 77,
   "id": "faa5ae1d-49ec-4701-bd4c-866e57573c96",
   "metadata": {
    "tags": []
   },
   "outputs": [
    {
     "name": "stdout",
     "output_type": "stream",
     "text": [
      "[10, 8, 6, 4, 2]\n"
     ]
    }
   ],
   "source": [
    "var_temp_list = [i*2 for i in temp_list [::-1]]\n",
    "print(var_temp_list)"
   ]
  },
  {
   "cell_type": "code",
   "execution_count": null,
   "id": "a6b889bf-d987-44f6-b3ad-d37bc35ddab2",
   "metadata": {},
   "outputs": [],
   "source": []
  }
 ],
 "metadata": {
  "kernelspec": {
   "display_name": "Python 3 (ipykernel)",
   "language": "python",
   "name": "python3"
  },
  "language_info": {
   "codemirror_mode": {
    "name": "ipython",
    "version": 3
   },
   "file_extension": ".py",
   "mimetype": "text/x-python",
   "name": "python",
   "nbconvert_exporter": "python",
   "pygments_lexer": "ipython3",
   "version": "3.11.5"
  }
 },
 "nbformat": 4,
 "nbformat_minor": 5
}
